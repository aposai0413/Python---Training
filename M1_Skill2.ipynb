{
  "nbformat": 4,
  "nbformat_minor": 0,
  "metadata": {
    "colab": {
      "provenance": [],
      "authorship_tag": "ABX9TyNvK8H4tPendGjhuIOSREiB",
      "include_colab_link": true
    },
    "kernelspec": {
      "name": "python3",
      "display_name": "Python 3"
    },
    "language_info": {
      "name": "python"
    }
  },
  "cells": [
    {
      "cell_type": "markdown",
      "metadata": {
        "id": "view-in-github",
        "colab_type": "text"
      },
      "source": [
        "<a href=\"https://colab.research.google.com/github/aposai0413/Python---Training/blob/master/M1_Skill2.ipynb\" target=\"_parent\"><img src=\"https://colab.research.google.com/assets/colab-badge.svg\" alt=\"Open In Colab\"/></a>"
      ]
    },
    {
      "cell_type": "code",
      "execution_count": null,
      "metadata": {
        "id": "GyaZ1vQnlYsy"
      },
      "outputs": [],
      "source": [
        "# Multiplication, division, addition, and subtraction\n",
        "print(3*8/2+5-1)"
      ]
    },
    {
      "cell_type": "code",
      "source": [
        "# Exponents\n",
        "print(4**6) # Syntax means 4 to the power of 6\n",
        "print(4**2) # To square a number\n",
        "print(4**3) # To cube a number\n",
        "print(4**0.5) # To find the square root of a number"
      ],
      "metadata": {
        "colab": {
          "base_uri": "https://localhost:8080/"
        },
        "id": "g_jJlBJ-ldi7",
        "outputId": "063f19b7-f6b8-44f6-a109-ab585f6e744e"
      },
      "execution_count": null,
      "outputs": [
        {
          "output_type": "stream",
          "name": "stdout",
          "text": [
            "4096\n",
            "16\n",
            "64\n",
            "2.0\n"
          ]
        }
      ]
    },
    {
      "cell_type": "code",
      "source": [
        "# To calculate how many different possible combinations can be\n",
        "# formed using a set of \"x\" characters with each character in \"x\"\n",
        "# having \"y\" number of possible values, you will need to use an\n",
        "# exponent for the calculation:\n",
        "x = 4\n",
        "y = 26\n",
        "print(y**x)"
      ],
      "metadata": {
        "colab": {
          "base_uri": "https://localhost:8080/"
        },
        "id": "o9VfUqSaln0i",
        "outputId": "e9edaf1f-86e4-4cce-f57f-5fc872a9d87d"
      },
      "execution_count": null,
      "outputs": [
        {
          "output_type": "stream",
          "name": "stdout",
          "text": [
            "456976\n"
          ]
        }
      ]
    },
    {
      "cell_type": "code",
      "source": [],
      "metadata": {
        "id": "_wBVdP2Ilp4Q"
      },
      "execution_count": null,
      "outputs": []
    }
  ]
}