{
  "nbformat": 4,
  "nbformat_minor": 0,
  "metadata": {
    "colab": {
      "provenance": [],
      "authorship_tag": "ABX9TyP/jS03PYL7GmNxqU/MUWjs",
      "include_colab_link": true
    },
    "kernelspec": {
      "name": "python3",
      "display_name": "Python 3"
    },
    "language_info": {
      "name": "python"
    }
  },
  "cells": [
    {
      "cell_type": "markdown",
      "metadata": {
        "id": "view-in-github",
        "colab_type": "text"
      },
      "source": [
        "<a href=\"https://colab.research.google.com/github/aposai0413/Python---Training/blob/master/M1_sum.ipynb\" target=\"_parent\"><img src=\"https://colab.research.google.com/assets/colab-badge.svg\" alt=\"Open In Colab\"/></a>"
      ]
    },
    {
      "cell_type": "code",
      "execution_count": null,
      "metadata": {
        "id": "NuhvwnIkakId"
      },
      "outputs": [],
      "source": [
        "#This program adds two numbers\n",
        "num1 = 1\n",
        "num2 = 2"
      ]
    },
    {
      "cell_type": "code",
      "source": [
        "#Add two numbers\n",
        "sum = num1 + num2"
      ],
      "metadata": {
        "id": "uooRxG1Ha-uo"
      },
      "execution_count": null,
      "outputs": []
    },
    {
      "cell_type": "code",
      "source": [
        "#Display the sum\n",
        "print(\"The sum of the numbers is:\", sum)"
      ],
      "metadata": {
        "colab": {
          "base_uri": "https://localhost:8080/"
        },
        "id": "vcMpcz96bBBv",
        "outputId": "0223ff17-4111-4376-a7f9-8404d21d68af"
      },
      "execution_count": null,
      "outputs": [
        {
          "output_type": "stream",
          "name": "stdout",
          "text": [
            "The sum of the numbers is: 3\n"
          ]
        }
      ]
    },
    {
      "cell_type": "code",
      "source": [],
      "metadata": {
        "id": "5DyHZ4zWbDH1"
      },
      "execution_count": null,
      "outputs": []
    }
  ]
}