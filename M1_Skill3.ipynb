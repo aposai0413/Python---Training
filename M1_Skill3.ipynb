{
  "nbformat": 4,
  "nbformat_minor": 0,
  "metadata": {
    "colab": {
      "provenance": [],
      "authorship_tag": "ABX9TyNfwpxs2fkdIwLQBYXqQ2x6",
      "include_colab_link": true
    },
    "kernelspec": {
      "name": "python3",
      "display_name": "Python 3"
    },
    "language_info": {
      "name": "python"
    }
  },
  "cells": [
    {
      "cell_type": "markdown",
      "metadata": {
        "id": "view-in-github",
        "colab_type": "text"
      },
      "source": [
        "<a href=\"https://colab.research.google.com/github/aposai0413/Python---Training/blob/master/M1_Skill3.ipynb\" target=\"_parent\"><img src=\"https://colab.research.google.com/assets/colab-badge.svg\" alt=\"Open In Colab\"/></a>"
      ]
    },
    {
      "cell_type": "code",
      "execution_count": null,
      "metadata": {
        "colab": {
          "base_uri": "https://localhost:8080/"
        },
        "id": "h88v0fKql5Zz",
        "outputId": "ad1f199c-888a-45f9-ae91-08b3db60c864"
      },
      "outputs": [
        {
          "output_type": "stream",
          "name": "stdout",
          "text": [
            "520\n"
          ]
        }
      ],
      "source": [
        "# Assignment of values to the variables:\n",
        "years = 10\n",
        "weeks_in_a_year = 52\n",
        "# This variable is assigned an arithmetic calculation:\n",
        "weeks_in_a_decade = years * weeks_in_a_year\n",
        "# Prints the calculation stored in the \"weeks_in_a_decade\" variable:\n",
        "print(weeks_in_a_decade)"
      ]
    }
  ]
}